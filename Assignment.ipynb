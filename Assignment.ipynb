{
 "cells": [
  {
   "cell_type": "markdown",
   "id": "7747e3dc-ffdc-4980-bc11-28922039fee8",
   "metadata": {},
   "source": [
    "1. Who developed Python Programming Language?"
   ]
  },
  {
   "cell_type": "markdown",
   "id": "380798d9-fdcb-4875-962a-aef0a8552a90",
   "metadata": {},
   "source": [
    "Python was developed by Guido van Rossum, a Dutch programmer, in the late 1980s. He started working on Python in December 1989 and released the first version of the language, version 0.9.0, in February 1991. Since then, Python has undergone many changes and updates, and it has grown in popularity to become one of the most widely used programming languages in the world."
   ]
  },
  {
   "cell_type": "markdown",
   "id": "da8ac839-fd5a-4c8f-b7cf-11cc32066f02",
   "metadata": {},
   "source": [
    "2. Which type of Programming does Python support?"
   ]
  },
  {
   "cell_type": "markdown",
   "id": "ee637e03-db07-4930-9ba0-373a0b1fdfbc",
   "metadata": {},
   "source": [
    "Python is a general-purpose programming language that supports multiple programming paradigms, including:\n",
    "\n",
    "Procedural programming: Python allows you to write programs using procedural programming techniques, which involves writing code in a series of steps, where each step changes the program's state.\n",
    "\n",
    "Object-oriented programming: Python supports object-oriented programming, which is a programming paradigm based on the concept of objects. In Python, you can define classes and create objects of those classes to encapsulate data and behavior.\n",
    "\n",
    "Functional programming: Python supports functional programming, which is a programming paradigm that emphasizes writing code in terms of functions. In Python, you can define and use higher-order functions, lambda functions, and other functional programming concepts.\n",
    "\n",
    "Imperative programming: Python allows you to write programs in an imperative style, where you specify exactly how the program should execute, step by step.\n",
    "\n",
    "Python's versatility and support for multiple programming paradigms make it a popular language for a wide variety of applications, from web development to scientific computing to artificial intelligence and machine learning."
   ]
  },
  {
   "cell_type": "markdown",
   "id": "71b6ea19-b4dc-45ea-bb46-b4fe8d889479",
   "metadata": {},
   "source": [
    "3. Is Python case sensitive when dealing with identifiers?"
   ]
  },
  {
   "cell_type": "markdown",
   "id": "6fc16de2-396e-4571-bace-a166b45f793a",
   "metadata": {},
   "source": [
    "Yes, Python is case sensitive when dealing with identifiers such as variable names, function names, class names, and module names. This means that the identifiers \"myVar\" and \"myvar\" are considered to be two different identifiers in Python, and therefore, if you define a variable with one of these names, you cannot refer to it using the other name.\n",
    "\n",
    "For example, the following code will define two different variables:\n",
    "\n",
    "myVar = 10\n",
    "myvar = 20\n",
    "\n",
    "If you then try to print the value of myVar, Python will raise an error because myVar was not defined:\n",
    "\n",
    "print(myVar)  # raises NameError: name 'myVar' is not defined\n",
    "\n",
    "Instead, you should refer to the variable using the name that you defined it with:\n",
    "\n",
    "print(myvar)  # prints 20\n",
    "\n",
    "So, it's important to be consistent with your use of capitalization when defining and using identifiers in Python."
   ]
  },
  {
   "cell_type": "markdown",
   "id": "8d50c745-d7bc-47d1-b803-83094b47d2bc",
   "metadata": {},
   "source": [
    "4. What is the correct extension of the Python file?"
   ]
  },
  {
   "cell_type": "markdown",
   "id": "32faa6a6-2672-4747-a550-f7733e9f7c94",
   "metadata": {},
   "source": [
    "The correct extension for Python files is \".py\". When you save a Python file, you should give it a name that reflects the contents of the file, followed by the \".py\" extension.\n",
    "\n",
    "For example, if you are writing a Python script to calculate the factorial of a number, you might save the file with the name \"factorial.py\".\n",
    "\n",
    "This convention of using the \".py\" extension for Python files is important because it tells the operating system and other software that this is a Python script that should be executed using the Python interpreter. When you run the script, you can do so by typing \"python\" followed by the name of the file at the command line, like this:\n",
    "\n",
    "python factorial.py\n",
    "\n",
    "This will execute the Python code in the \"factorial.py\" file and display the output."
   ]
  },
  {
   "cell_type": "markdown",
   "id": "f1446a2c-7958-4b9a-905d-dcf8840afaa0",
   "metadata": {},
   "source": [
    "5. Is Python code compiled or interpreted?"
   ]
  },
  {
   "cell_type": "markdown",
   "id": "9cc2191b-3431-424e-9aed-4a3a1f1c7592",
   "metadata": {},
   "source": [
    "Python code is typically interpreted, which means that the code is executed line by line, with each line being translated into machine code and executed by the Python interpreter at runtime.\n",
    "\n",
    "However, Python code can also be compiled to bytecode, which is a lower-level representation of the code that can be executed more quickly by the interpreter. When you run a Python script, the Python interpreter first compiles the code to bytecode and then executes it. This compilation step happens automatically, behind the scenes, and you don't need to do anything special to make it happen.\n",
    "\n",
    "The fact that Python is interpreted, but can also be compiled to bytecode, gives it some advantages over other languages. Interpreted languages are generally easier to learn and faster to develop in, because you can quickly see the results of your code without having to wait for a lengthy compilation step. At the same time, the ability to compile Python to bytecode means that it can still be executed quickly and efficiently, even for large and complex applications."
   ]
  },
  {
   "cell_type": "markdown",
   "id": "59ba3499-fe81-475e-b05d-b81ae1492fb1",
   "metadata": {},
   "source": [
    "6. Name a few blocks of code used to define in Python language?"
   ]
  },
  {
   "cell_type": "markdown",
   "id": "d1ed0920-f3c7-4083-b02c-d755ca25d6c0",
   "metadata": {},
   "source": [
    "In Python, code blocks are defined using indentation rather than curly braces or other delimiters like in some other programming languages. The most common types of code blocks in Python are:\n",
    "\n",
    "Functions: Functions are defined using the \"def\" keyword, followed by the function name and a set of parentheses. The body of the function is indented and contains the code that will be executed when the function is called.\n",
    "\n",
    "    def my_function():\n",
    "        print(\"Hello, world!\")\n",
    "\n",
    "Conditional statements: Conditional statements are used to execute different blocks of code depending on whether a certain condition is true or false. Conditional statements in Python are defined using the \"if\", \"elif\", and \"else\" keywords, and the body of each block is indented.\n",
    "\n",
    "    x = 10\n",
    "    if x > 0:\n",
    "        print(\"x is positive\")\n",
    "    elif x == 0:\n",
    "        print(\"x is zero\")\n",
    "    else:\n",
    "        print(\"x is negative\")\n",
    "    \n",
    "Loops: Loops are used to execute the same block of code multiple times. In Python, there are two types of loops: \"for\" loops and \"while\" loops. In both cases, the body of the loop is indented.\n",
    "\n",
    "    # For loop example\n",
    "    fruits = [\"apple\", \"banana\", \"cherry\"]\n",
    "    for fruit in fruits:\n",
    "        print(fruit)\n",
    "\n",
    "    # While loop example\n",
    "    x = 0\n",
    "    while x < 10:\n",
    "        print(x)\n",
    "        x += 1\n",
    "\n",
    "These are just a few examples of the types of code blocks you can define in Python. Indentation is a fundamental aspect of the Python language, and it's important to use it correctly in order for your code to be interpreted and executed properly."
   ]
  },
  {
   "cell_type": "markdown",
   "id": "7f6bf11c-199a-44fb-be69-63be991b756d",
   "metadata": {},
   "source": [
    "7. State a character used to give single-line comments in Python?"
   ]
  },
  {
   "cell_type": "markdown",
   "id": "4946810a-171d-471c-ad81-6171a0532e17",
   "metadata": {},
   "source": [
    "In Python, the hash symbol (#) is used to indicate a single-line comment. When the Python interpreter encounters a hash symbol in a line of code, it ignores everything after the hash symbol and treats it as a comment.\n",
    "\n",
    "Here's an example:\n",
    "\n",
    "    # This is a single-line comment in Python\n",
    "    print(\"Hello, world!\")  # This is another single-line comment\n",
    "\n",
    "In the above code, the first line is a single-line comment that begins with the hash symbol. The second line is a Python statement that prints the string \"Hello, world!\", followed by another single-line comment that begins with the hash symbol.\n",
    "\n",
    "Comments are useful for documenting your code and explaining what it does, especially if you are working on a large project or collaborating with other programmers. They can also be used to temporarily disable certain parts of your code during development, by commenting out the relevant lines with the hash symbol."
   ]
  },
  {
   "cell_type": "markdown",
   "id": "87448994-8e74-43f9-b819-9ad2e0628721",
   "metadata": {},
   "source": [
    "8. Mention functions which can help us to find the version of python that we are currently working on?"
   ]
  },
  {
   "cell_type": "markdown",
   "id": "6f8d940f-d6bc-4045-a22a-c371c29f31ea",
   "metadata": {},
   "source": [
    "There are several functions you can use to find the version of Python that you are currently working on. Here are some examples:\n",
    "\n",
    "sys.version: The sys module provides access to some variables used or maintained by the interpreter and to functions that interact strongly with the interpreter. The sys.version attribute returns a string containing the version number of the Python interpreter.\n",
    "\n",
    "    import sys\n",
    "    print(sys.version)\n",
    "OUTPUT:\n",
    "3.9.5 (default, May  3 2021, 08:12:19)\n",
    "[GCC 8.4.0]\n",
    "\n",
    "platform.python_version(): The platform module provides an interface to various services that interact with the operating system. The platform.python_version() function returns the version of Python as a string.\n",
    "\n",
    "    import platform\n",
    "    print(platform.python_version())\n",
    "OUTPUT:\n",
    "3.9.5\n",
    "\n",
    "sys.version_info: The sys.version_info attribute returns a named tuple that contains information about the version of Python that is currently running, including the major and minor version numbers.\n",
    "\n",
    "    import sys\n",
    "    print(sys.version_info)\n",
    "OUTPUT:\n",
    "sys.version_info(major=3, minor=9, micro=5, releaselevel='final', serial=0)\n",
    "\n",
    "These are just a few examples of functions you can use to find the version of Python you are currently working on. Depending on your specific needs, there may be other functions or libraries that are more appropriate."
   ]
  },
  {
   "cell_type": "markdown",
   "id": "42df4a83-fe9b-4571-9743-8f20148807a2",
   "metadata": {},
   "source": [
    "9. Python supports the creation of anonymous functions at runtime, using a construct called"
   ]
  },
  {
   "cell_type": "markdown",
   "id": "b52da740-6683-4f4f-b458-c13a3a0e80e3",
   "metadata": {},
   "source": [
    "Python supports the creation of anonymous functions at runtime, using a construct called \"lambda\" functions.\n",
    "\n",
    "Lambda functions are a way to create small, one-time-use functions that don't need to be named or defined elsewhere in your code. They are particularly useful for functions that will only be used once, or for functions that need to be passed as arguments to other functions.\n",
    "\n",
    "Lambda functions are defined using the \"lambda\" keyword, followed by one or more arguments, a colon, and an expression that returns the value of the function. The syntax for a lambda function is:\n",
    "\n",
    "lambda arguments: expression\n",
    "\n",
    "Here's an example of a lambda function that takes two arguments and returns their sum:\n",
    "\n",
    "    sum = lambda x, y: x + y\n",
    "    print(sum(2, 3))  # Output: 5\n",
    "\n",
    "In this example, the lambda function takes two arguments \"x\" and \"y\", and returns their sum using the expression \"x + y\". The lambda function is assigned to a variable called \"sum\", which can then be called with two arguments to compute the sum.\n",
    "\n",
    "Lambda functions are a powerful tool for functional programming in Python, and are widely used in applications such as map(), filter(), and reduce()."
   ]
  },
  {
   "cell_type": "markdown",
   "id": "2c977d3f-a422-425c-ad28-58e14d5397bf",
   "metadata": {},
   "source": [
    "10. What does pip stand for python?"
   ]
  },
  {
   "cell_type": "markdown",
   "id": "da4d3781-06a0-42a1-b0dd-7d31fff419ff",
   "metadata": {},
   "source": [
    "In Python, \"pip\" stands for \"Pip Installs Packages\". It is a package manager for Python that is used to install and manage software packages (libraries, frameworks, etc.) that are written in Python.\n",
    "\n",
    "Pip makes it easy to download and install Python packages from the Python Package Index (PyPI) and other repositories, and also manages dependencies between packages, so you don't have to worry about manually installing each package and its dependencies.\n",
    "\n",
    "To use pip, you can open a terminal or command prompt window and type \"pip\" followed by a command, such as \"install\" or \"search\", and the name of the package you want to install or search for. For example, to install the popular NumPy package, you can run the following command:\n",
    "\n",
    "pip install numpy\n",
    "\n",
    "Pip will download and install the latest version of NumPy and any dependencies it requires.\n",
    "\n",
    "Pip is included with most Python installations, so you can start using it right away. It is also possible to upgrade pip to the latest version by running the following command:\n",
    "\n",
    "pip install --upgrade pip"
   ]
  },
  {
   "cell_type": "markdown",
   "id": "fcafac80-a168-4b67-b97b-633aa322d7a4",
   "metadata": {},
   "source": [
    "11. Mention a few built-in functions in python?"
   ]
  },
  {
   "cell_type": "markdown",
   "id": "107f07e2-1d21-4d81-8ae8-3dd60447f729",
   "metadata": {},
   "source": [
    "Python comes with a wide range of built-in functions that are readily available for use without requiring you to define them. Here are a few examples of some commonly used built-in functions in Python:\n",
    "\n",
    "    print() - This function is used to print output to the console.\n",
    "\n",
    "    len() - This function is used to get the length of a sequence (e.g., string, list, tuple).\n",
    "\n",
    "    input() - This function is used to prompt the user for input from the keyboard.\n",
    "\n",
    "    range() - This function is used to generate a sequence of numbers.\n",
    "\n",
    "    int(), float(), str() - These functions are used to convert values between different data types.\n",
    "\n",
    "    max(), min() - These functions are used to find the maximum and minimum values in a sequence.\n",
    "\n",
    "    abs() - This function is used to get the absolute value of a number.\n",
    "\n",
    "    round() - This function is used to round a number to a specified number of decimal places.\n",
    "\n",
    "    sorted() - This function is used to sort a sequence.\n",
    "\n",
    "    zip() - This function is used to combine two or more sequences into a list of tuples.\n",
    "\n",
    "These are just a few examples of the many built-in functions available in Python. You can find a complete list of built-in functions in the Python documentation."
   ]
  },
  {
   "cell_type": "markdown",
   "id": "f054588e-b9db-4127-97df-c89a1e045461",
   "metadata": {},
   "source": [
    "12. What is the maximum possible length of an identifier in Python?"
   ]
  },
  {
   "cell_type": "markdown",
   "id": "554d3375-e1e6-4ba6-a9ee-c49de1903745",
   "metadata": {},
   "source": [
    "In Python, the maximum length of an identifier (i.e., variable, function, class, etc. name) is technically unlimited. However, it is generally recommended to keep identifier names relatively short and descriptive, usually no longer than 79 characters, to ensure readability and maintainability of the code.\n",
    "\n",
    "Python allows a wide range of characters to be used in identifiers, including letters (both uppercase and lowercase), digits, and underscores (_). However, identifiers cannot begin with a digit and should not use any reserved keywords or built-in names as identifiers.\n",
    "\n",
    "It is also worth noting that Python uses a naming convention called \"snake_case\" for most identifiers, where words are separated by underscores. For example, a variable that stores a person's age might be named \"person_age\". This convention is not required by the language itself, but is widely used in the Python community to improve code readability and consistency."
   ]
  },
  {
   "cell_type": "markdown",
   "id": "fd63e6ed-2593-43d0-a5e2-8658e76715ff",
   "metadata": {},
   "source": [
    "13. What are the benefits of using Python?"
   ]
  },
  {
   "cell_type": "markdown",
   "id": "6ffa0db8-e1ab-44ae-aba7-7679921cc7ef",
   "metadata": {},
   "source": [
    "Python is a popular programming language with a wide range of benefits. Here are some of the main advantages of using Python:\n",
    "\n",
    "Simple and easy to learn: Python has a simple syntax that is easy to learn, even for beginners with no prior programming experience. This makes it an ideal language for learning programming and developing prototypes.\n",
    "\n",
    "    Large community and libraries: Python has a large and active community of developers, which means there is a wealth of resources and support available. There are also many third-party libraries and modules available, which can save time and effort when building applications.\n",
    "\n",
    "    Cross-platform compatibility: Python is a cross-platform language, which means it can run on many different operating systems, including Windows, macOS, Linux, and Unix.\n",
    "\n",
    "    Versatile: Python can be used for a wide range of applications, including web development, data analysis, scientific computing, artificial intelligence, machine learning, and more.\n",
    "\n",
    "    Interpreted language: Python is an interpreted language, which means it does not need to be compiled before running. This makes the development process faster and more efficient.\n",
    "\n",
    "    High-level language: Python is a high-level language, which means it provides abstractions that make it easier to write code and solve problems.\n",
    "\n",
    "    Object-oriented programming support: Python supports object-oriented programming, which allows for the creation of reusable and modular code.\n",
    "\n",
    "Overall, Python's simplicity, versatility, and large community make it a popular choice for developers across a wide range of applications and industries."
   ]
  },
  {
   "cell_type": "markdown",
   "id": "3c93598e-8527-432c-86c6-66efcde57da7",
   "metadata": {},
   "source": [
    "14. How is memory managed in Python?"
   ]
  },
  {
   "cell_type": "markdown",
   "id": "b0a77698-355c-4d5d-b97c-dc37225ccf5b",
   "metadata": {},
   "source": [
    "In Python, memory management is handled automatically by the Python interpreter using a technique called \"dynamic memory allocation.\" When a program needs memory to store an object, the interpreter checks the available memory, allocates space for the object, and then keeps track of that memory until the object is no longer needed.\n",
    "\n",
    "Python uses a technique called \"reference counting\" to keep track of memory usage. Every time an object is created, Python assigns a reference count to that object, which is the number of times the object is referred to in the program. When an object's reference count drops to zero, it means that the object is no longer needed and can be safely deleted from memory.\n",
    "\n",
    "Python also uses a technique called \"garbage collection\" to periodically clean up memory that is no longer in use. This process identifies and deletes objects that are no longer being referenced by the program.\n",
    "\n",
    "In addition to automatic memory management, Python also provides tools for manual memory management, such as the \"del\" keyword, which can be used to delete objects and reduce memory usage. However, in most cases, it is not necessary to manually manage memory in Python, as the interpreter takes care of memory management automatically."
   ]
  },
  {
   "cell_type": "markdown",
   "id": "fe14f782-83b0-47fd-ac22-a33ff70a5814",
   "metadata": {},
   "source": [
    "15. How to install Python on Windows and set path variables?"
   ]
  },
  {
   "cell_type": "markdown",
   "id": "a9ab4e2d-0e66-4fdc-8b80-9df33c6db1e9",
   "metadata": {},
   "source": []
  },
  {
   "cell_type": "markdown",
   "id": "33770efe-79be-4316-ae6e-eccfa6d677f8",
   "metadata": {},
   "source": [
    "16. Is indentation required in python?"
   ]
  },
  {
   "cell_type": "markdown",
   "id": "9f037e8b-818a-4ddb-87b6-7b5891642dcd",
   "metadata": {},
   "source": []
  }
 ],
 "metadata": {
  "kernelspec": {
   "display_name": "Python 3 (ipykernel)",
   "language": "python",
   "name": "python3"
  },
  "language_info": {
   "codemirror_mode": {
    "name": "ipython",
    "version": 3
   },
   "file_extension": ".py",
   "mimetype": "text/x-python",
   "name": "python",
   "nbconvert_exporter": "python",
   "pygments_lexer": "ipython3",
   "version": "3.10.8"
  }
 },
 "nbformat": 4,
 "nbformat_minor": 5
}
